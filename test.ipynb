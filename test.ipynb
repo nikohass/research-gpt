{
 "cells": [
  {
   "cell_type": "code",
   "execution_count": 1,
   "metadata": {},
   "outputs": [],
   "source": [
    "import requests"
   ]
  },
  {
   "cell_type": "code",
   "execution_count": 2,
   "metadata": {},
   "outputs": [],
   "source": [
    "urls = [\n",
    "    #\"https://www.moe.gov.sg/-/media/files/careers/english-language-entrance-proficiency-test-format-and-sample-papers.pdf\",\n",
    "    \"https://raw.githubusercontent.com/nikohass/rust-socha2022/master/README.md\",\n",
    "    #\"https://www.binance.com/api/v1/exchangeInfo\",\n",
    "    #\"https://duckduckgo.com\",\n",
    "    #\"https://openai.com/pricing\",\n",
    "    #\"https://www.moe.gov.sg/\",\n",
    "    #\"https://www.cl.cam.ac.uk/~mgk25/ucs/examples/UTF-8-test.txt\",\n",
    "\n",
    "]\n",
    "responses = [requests.get(url) for url in urls]"
   ]
  },
  {
   "cell_type": "code",
   "execution_count": 3,
   "metadata": {},
   "outputs": [
    {
     "data": {
      "text/plain": [
       "<module 'parse' from 'c:\\\\Users\\\\I551984\\\\Documents\\\\GitHub\\\\research-gpt\\\\parse.py'>"
      ]
     },
     "execution_count": 3,
     "metadata": {},
     "output_type": "execute_result"
    }
   ],
   "source": [
    "from parse import parse_response\n",
    "#reload\n",
    "from importlib import reload\n",
    "import parse\n",
    "reload(parse)"
   ]
  },
  {
   "cell_type": "code",
   "execution_count": 4,
   "metadata": {},
   "outputs": [
    {
     "name": "stdout",
     "output_type": "stream",
     "text": [
      "# Software-Challenge 2022 Client\n",
      "This is a client for the [Software-Challenge Germany](https://software-challenge.de/) 2022.\n",
      "\n",
      "## Usage\n",
      "To build the client run `cargo build --release --bin client`. To play a game against the client you'll need the [latest version of the Software-Challenge GUI for Ostseeschach](https://github.com/software-challenge/gui/releases/tag/22.1.0).\n"
     ]
    }
   ],
   "source": [
    "for response in responses:\n",
    "    result = parse_response(response)\n",
    "    print(result[:2000])"
   ]
  },
  {
   "cell_type": "code",
   "execution_count": 5,
   "metadata": {},
   "outputs": [
    {
     "data": {
      "text/markdown": [
       "* [Search](https://www.google.com.sg/webhp?tab=ww)\n",
       "* [Images](https://www.google.com/imghp?hl=en&tab=wi)\n",
       "* [Maps](https://maps.google.com.sg/maps?hl=en&tab=wl)\n",
       "* [Play](https://play.google.com/?hl=en&tab=w8)\n",
       "* [YouTube](https://www.youtube.com/?tab=w1)\n",
       "* [News](https://news.google.com/?tab=wn)\n",
       "* [Gmail](https://mail.google.com/mail/?tab=wm)\n",
       "* [Drive](https://drive.google.com/?tab=wo)\n",
       "* [More](https://www.google.com.sg/intl/en/about/products?tab=wh) * [Calendar](https://calendar.google.com/calendar?tab=wc)\n",
       "* [Translate](https://translate.google.com.sg/?hl=en&tab=wT)\n",
       "* [Books](https://books.google.com.sg/?hl=en&tab=wp)\n",
       "* [Shopping](https://www.google.com.sg/shopping?hl=en&source=og&tab=wf)\n",
       "* [Blogger](https://www.blogger.com/?tab=wj)\n",
       "* [Finance](https://www.google.com/finance?tab=we)\n",
       "* [Photos](https://photos.google.com/?tab=wq&pageId=none)\n",
       "* [Docs](https://docs.google.com/document/?usp=docs_alc)\n",
       "* [Even more »](https://www.google.com.sg/intl/en/about/products?tab=wh)\n",
       "## Account Options\n",
       "* [Sign in](https://accounts.google.com/ServiceLogin?hl=en&passive=true&continue=https://www.google.com/&ec=GAZAAQ)\n",
       "* [](http://www.google.com.sg/preferences?hl=en) * [Search settings](https://www.google.com/preferences?hl=en)\n",
       "* [Web History](http://www.google.com.sg/history/optout?hl=en)\n",
       "![](/images/branding/googlelogo/1x/googlelogo_white_background_color_272x92dp.png)\n",
       "[Advanced search](https://www.google.com/advanced_search?hl=en-SG&authuser=0) Google offered in: [中文(简体)](https://www.google.com/setprefs?sig=0_zaY_FCjLGR-uPLxHjMipbahdZ_Y%3D&hl=zh-CN&source=homepage&sa=X&ved=0ahUKEwidlfvc8Z-AAxVzwzgGHU7tDHQQ2ZgBCAU) [Bahasa Melayu](https://www.google.com/setprefs?sig=0_zaY_FCjLGR-uPLxHjMipbahdZ_Y%3D&hl=ms&source=homepage&sa=X&ved=0ahUKEwidlfvc8Z-AAxVzwzgGHU7tDHQQ2ZgBCAY) [தமிழ்](https://www.google.com/setprefs?sig=0_zaY_FCjLGR-uPLxHjMipbahdZ_Y%3D&hl=ta&source=homepage&sa=X&ved=0ahUKEwidlfvc8Z-AAxVzwzgGHU7tDHQQ2ZgBCAc) [Advertising](https://www.google.com/intl/en/ads/) [Business Solutions](http://www.google.com.sg/intl/en/services/) [Google.com.sg](https://www.google.com/setprefdomain?prefdom=SG&prev=https://www.google.com.sg/&sig=K_Z6_J6tT0dZiZ_a74uhhBXiI-VvU%3D)\n",
       "© 2023 - [Privacy](https://www.google.com/intl/en/policies/privacy/) - [Terms](https://www.google.com/intl/en/policies/terms/)"
      ],
      "text/plain": [
       "<IPython.core.display.Markdown object>"
      ]
     },
     "metadata": {},
     "output_type": "display_data"
    }
   ],
   "source": [
    "from lookup import lookup\n",
    "result = lookup(\"https://www.google.com\")\n",
    "from IPython.display import Markdown, display\n",
    "display(Markdown(result))"
   ]
  },
  {
   "cell_type": "code",
   "execution_count": 6,
   "metadata": {},
   "outputs": [],
   "source": [
    "from llm import GPT"
   ]
  },
  {
   "cell_type": "code",
   "execution_count": 7,
   "metadata": {},
   "outputs": [],
   "source": [
    "gpt = GPT()"
   ]
  },
  {
   "cell_type": "code",
   "execution_count": 8,
   "metadata": {},
   "outputs": [
    {
     "data": {
      "text/plain": [
       "\"Hello, I'm OpenAI's language model, sometimes known as GPT-3 or ChatGPT. I don't have a personal name because I'm an artificial intelligence.\""
      ]
     },
     "execution_count": 8,
     "metadata": {},
     "output_type": "execute_result"
    }
   ],
   "source": [
    "gpt.get_response(\"Hello, I am a human. What is your name?\")"
   ]
  },
  {
   "cell_type": "code",
   "execution_count": 9,
   "metadata": {},
   "outputs": [],
   "source": [
    "from prompts import create_iterative_search_prompt"
   ]
  },
  {
   "cell_type": "code",
   "execution_count": 10,
   "metadata": {},
   "outputs": [
    {
     "data": {
      "text/markdown": [
       "You are an AI model involved in a multi-turn interaction system. You have been given a task by a human user, and you are trying to complete it. The task is: \n",
       "\n",
       "```Identify key studies and their findings, and discuss potential implications for public health policy.```\n",
       "\n",
       "As an AI model, you do not have direct access to the internet. However, you can ask me to search the internet for you.\n",
       "You give me a valid URL, and I will return the text of the webpage at that URL. Note that I will not return the text of any images or videos. Supported formats are HTML, JSON, PDF, plain text, json, Markdown, and similar formats. Each time you conduct a search, you will receive the text of the webpage at the URL you provided. You can then use that text to complete your task. If you want to conduct a search with a search engine, use the URL of the search results page. E.g. if you want to search for the definition of the word 'cat' on Wikipedia, use the URL GET('https://www.google.com/search?q=cat+wikipedia') or GET('https://duckduckgo.com/?q=cat+wikipedia'). Please stick to the GET('enter your url here') format so that I can understand you. Note that if reasonable, you can conduct your searches in different languages. For example, you can use german search terms if you are researching a german topic. I want you to use reliable and trustworthy sources, so that these sources could be used as references in a scientific context. Note that search engines are not considered reliable sources. The best sources are official government websites, scientific papers, books and websites that have a good reputation and are fact checked.\n",
       "\n",
       "Inside the multi-turn interaction system, there can be multiple searches. But you will only be able to see the results of the most recent search and conduct a new search. You will not be able to see the results of previous searches. You have not conducted any searches yet. Depending on your task, you may need to conduct a search..\n",
       "\n",
       "Of course you need to remember what you found out in your previous searches. That's why you have the ability to make notes. I will give you your notes again the next time so that you can continue from where you left of. You can write down anything you want in your notes. For example URLs that sound promising or that you want to visit, or the results of your previous searches, or a todo list of steps you have to complete to finish your task. You can write down anything you want. For readability, please type START NOTES before your notes and END NOTES after your notes. For example:\n",
       "```\n",
       "START NOTES\n",
       "I have to look up the definition of the word 'cat' on Wikipedia.\n",
       "END NOTES\n",
       "\n",
       "You have not written any notes yet.\n",
       "\n",
       "There is no content from previous searches yet.\n",
       "\n",
       "To summarize: This is the first call of the multi-turn interaction system. You will first wite your notes using the START NOTES ... END NOTES notation. Note the steps you need to complete to finish your task. You may also note your thoughts. Then conduct your first search using the GET('enter your url here') notation.\n",
       "\n",
       "For your understanding here is an example of how your answer should look like. Let's say you want to look up the top 20 companies in the S&P 500. You would write:\n",
       "START NOTES\n",
       "My task is to look up the top 20 companies in the S&P 500.\n",
       "To complete my task I have to do the following:\n",
       "* Step 1: Conduct a search for the S&P 500 using a search engine.\n",
       "* Step 2: Pick the most promising result and visit the website.\n",
       "* Step 3: Find the list of the top 20 S&P 500 companies. If there is no such list, I will either have to look for it on a different website or a subpage of the website I am currently on.\n",
       "* Step 4: Write down the list of the top 20 S&P 500 companies and finish my task by typing FINISH.\n",
       "END NOTES\n",
       "I will start with the search for the S&P 500 using Google. GET('https://www.google.com/search?q=s%26p+500')\n",
       "\n",
       "```\n",
       "\n",
       "Now it's your turn. Please write your notes, conduct a search, or finish your task.\n"
      ],
      "text/plain": [
       "<IPython.core.display.Markdown object>"
      ]
     },
     "metadata": {},
     "output_type": "display_data"
    }
   ],
   "source": [
    "prompt = create_iterative_search_prompt(\n",
    "    \"Identify key studies and their findings, and discuss potential implications for public health policy.\",\n",
    "    [],\n",
    "    \"\",\n",
    "    \"\"\n",
    ")\n",
    "display(Markdown(prompt))"
   ]
  },
  {
   "cell_type": "code",
   "execution_count": 11,
   "metadata": {},
   "outputs": [
    {
     "data": {
      "text/markdown": [
       "START NOTES\n",
       "My task is to identify key studies and their findings, and discuss potential implications for public health policy.\n",
       "To complete my task I have to do the following:\n",
       "* Step 1: Conduct a search for recent key studies in public health using a reputable search engine.\n",
       "* Step 2: Pick the most promising and relevant research papers and note down their URLs.\n",
       "* Step 3: Use the GET function to further review each paper, focusing on the methodology, findings, and potential policy implications sections.\n",
       "* Step 4: Write a summary of each paper's findings and discuss their potential implications for public health policy.\n",
       "END NOTES\n",
       "\n",
       "I will begin with a search for recent key studies in public health using Google Scholar. GET('https://scholar.google.com/scholar?q=recent+key+studies+in+public+health')"
      ],
      "text/plain": [
       "<IPython.core.display.Markdown object>"
      ]
     },
     "metadata": {},
     "output_type": "display_data"
    }
   ],
   "source": [
    "response = gpt.get_response(prompt)\n",
    "display(Markdown(response))"
   ]
  },
  {
   "cell_type": "code",
   "execution_count": 12,
   "metadata": {},
   "outputs": [
    {
     "name": "stdout",
     "output_type": "stream",
     "text": [
      "['https://www.google.com/search?q=recent+major+public+health+studies']\n",
      "['https://www.google.com/search?q=recent+major+public+health+studies']\n",
      "['https://www.google.com/search?q=recent+major+public+health+studies']\n"
     ]
    }
   ],
   "source": [
    "# Parse GET calls from the output\n",
    "import re\n",
    "texts = [\n",
    "    \"GET('https://www.google.com/search?q=recent+major+public+health+studies')\",\n",
    "    \"GET(\\\"https://www.google.com/search?q=recent+major+public+health+studies\\\")\",\n",
    "    \"GET(https://www.google.com/search?q=recent+major+public+health+studies)\",\n",
    "]\n",
    "for text in texts:\n",
    "    get_calls = re.findall(r\"GET\\(['\\\"]?(.*?)['\\\"]?\\)\", text)\n",
    "    print(get_calls)"
   ]
  },
  {
   "cell_type": "code",
   "execution_count": 13,
   "metadata": {},
   "outputs": [],
   "source": [
    "notes_block = re.findall(r\"START NOTES(.*?)END NOTES\", response, re.DOTALL)\n"
   ]
  },
  {
   "cell_type": "code",
   "execution_count": 14,
   "metadata": {},
   "outputs": [],
   "source": [
    "from loop import *"
   ]
  },
  {
   "cell_type": "code",
   "execution_count": 15,
   "metadata": {},
   "outputs": [
    {
     "name": "stdout",
     "output_type": "stream",
     "text": [
      "START NOTES\n",
      "My task is to find out who the current President of the United States is.\n",
      "To complete my task, I will do the following:\n",
      "* Step 1: Conduct a search for the current U.S. President using a search engine.\n",
      "* Step 2: Check the most promising result, ideally from an official government website or a reputable news organization.\n",
      "* Step 3: Write down the name of the current President and any other relevant information I find. \n",
      "* Step 4: Finish my task by typing FINISH.\n",
      "END NOTES\n",
      "\n",
      "I will start with a search for the current U.S President using Google. GET('https://www.google.com/search?q=current+us+president')\n",
      "START NOTES\n",
      "My task is to find out who the current President of the United States is.\n",
      "To complete my task, I have done the following:\n",
      "* Step 1: Conducted a search for the current U.S. President using a search engine. - Completed.\n",
      "* Step 2: Checked the most promising result, ideally from an official government website or a reputable news organization. - Completed.\n",
      "* Step 3: Wrote down the name of the current President and any other relevant information I found.\n",
      "* Step 4: Finish my task by typing FINISH.\n",
      "\n",
      "From my previous search, I found out that:\n",
      "The current President of the United States is Joe Biden. He is an American politician and the 46th and current president of the United States. A member of the Democratic Party, he previously served as the 47th vice president from 2009 to 2017 under President Barack Obama. He was born on 20th November 1942. \n",
      "Sources: Google search results, Wikipedia\n",
      "END NOTES\n",
      "\n",
      "FINISH\n",
      "The model wants to finish.\n",
      "The model has finished.\n"
     ]
    }
   ],
   "source": [
    "task = \"Search for the current President of the United States.\"\n",
    "responses = search_loop(task, gpt)"
   ]
  },
  {
   "cell_type": "code",
   "execution_count": 16,
   "metadata": {},
   "outputs": [
    {
     "data": {
      "text/markdown": [
       "You are an AI model involved in a multi-turn interaction system. Previously, you were given a task by a human user, and you were trying to complete it. The task was: \n",
       "\n",
       "```Search for the current President of the United States.```\n",
       "\n",
       "As an AI model, you did not have direct access to the internet. However, you could ask me to search the internet for you. You gave me a valid URL, and I returned the text of the webpage at that URL. Note that I did not return the text of any images or videos. Supported formats are HTML, JSON, PDF, plain text, json, Markdown, and similar formats. Each time you conducted a search, you received the text of the webpage at the URL you provided. You could then use that text to complete your task. Every iteration you made notes that you can read now. You are now at the last step of the multi-turn interaction system. The loop of the multi-turn interaction system has ended. You now write a summary of your findings. Write this summary in Markdown. Use hyperlinks to reference the sources you used. Do not use footnotes. Do not describe the steps of you search if you do not have to. Just write down the results of your search and your sources. Use the most concise way possible to write down your findings. Use reliable and trustworthy sources. Prefer sources that could be used as references in a scientific context. Search engines are not reliable sources.\n",
       "\n",
       "The following is a list of all the responses you gave during the multi-turn interaction system: START NOTES\n",
       "My task is to find out who the current President of the United States is.\n",
       "To complete my task, I will do the following:\n",
       "* Step 1: Conduct a search for the current U.S. President using a search engine.\n",
       "* Step 2: Check the most promising result, ideally from an official government website or a reputable news organization.\n",
       "* Step 3: Write down the name of the current President and any other relevant information I find. \n",
       "* Step 4: Finish my task by typing FINISH.\n",
       "END NOTES\n",
       "\n",
       "I will start with a search for the current U.S President using Google. GET('https://www.google.com/search?q=current+us+president')\n",
       "\n",
       "START NOTES\n",
       "My task is to find out who the current President of the United States is.\n",
       "To complete my task, I have done the following:\n",
       "* Step 1: Conducted a search for the current U.S. President using a search engine. - Completed.\n",
       "* Step 2: Checked the most promising result, ideally from an official government website or a reputable news organization. - Completed.\n",
       "* Step 3: Wrote down the name of the current President and any other relevant information I found.\n",
       "* Step 4: Finish my task by typing FINISH.\n",
       "\n",
       "From my previous search, I found out that:\n",
       "The current President of the United States is Joe Biden. He is an American politician and the 46th and current president of the United States. A member of the Democratic Party, he previously served as the 47th vice president from 2009 to 2017 under President Barack Obama. He was born on 20th November 1942. \n",
       "Sources: Google search results, Wikipedia\n",
       "END NOTES\n",
       "\n",
       "FINISH\n",
       "\n",
       "Please write your summary.\n"
      ],
      "text/plain": [
       "<IPython.core.display.Markdown object>"
      ]
     },
     "metadata": {},
     "output_type": "display_data"
    }
   ],
   "source": [
    "from prompts import create_summary_prompt\n",
    "import prompts\n",
    "reload(prompts)\n",
    "summary_prompt = create_summary_prompt(\n",
    "    task,\n",
    "    responses\n",
    ")\n",
    "display(Markdown(summary_prompt))"
   ]
  },
  {
   "cell_type": "code",
   "execution_count": 17,
   "metadata": {},
   "outputs": [
    {
     "data": {
      "text/markdown": [
       "The current President of the United States is [Joe Biden](https://en.wikipedia.org/wiki/Joe_Biden). Born on November 20, 1942, Joe Biden is an American politician who is serving as the 46th president of the United States. Before his presidency, Biden was a member of the Democratic Party and served as the 47th vice president from 2009 to 2017 under President Barack Obama."
      ],
      "text/plain": [
       "<IPython.core.display.Markdown object>"
      ]
     },
     "metadata": {},
     "output_type": "display_data"
    }
   ],
   "source": [
    "response = gpt.get_response(summary_prompt)\n",
    "display(Markdown(response))"
   ]
  }
 ],
 "metadata": {
  "kernelspec": {
   "display_name": "base",
   "language": "python",
   "name": "python3"
  },
  "language_info": {
   "codemirror_mode": {
    "name": "ipython",
    "version": 3
   },
   "file_extension": ".py",
   "mimetype": "text/x-python",
   "name": "python",
   "nbconvert_exporter": "python",
   "pygments_lexer": "ipython3",
   "version": "3.10.9"
  },
  "orig_nbformat": 4
 },
 "nbformat": 4,
 "nbformat_minor": 2
}

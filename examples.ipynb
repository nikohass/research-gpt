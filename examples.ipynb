{
 "cells": [
  {
   "cell_type": "code",
   "execution_count": 2,
   "metadata": {},
   "outputs": [],
   "source": [
    "import sys\n",
    "sys.path.append('./src')"
   ]
  },
  {
   "cell_type": "code",
   "execution_count": 6,
   "metadata": {},
   "outputs": [],
   "source": [
    "from loop import complete_task\n",
    "from llm import GPT\n",
    "from IPython.display import Markdown, display\n",
    "from importlib import reload\n",
    "import lookup\n",
    "reload(lookup)\n",
    "import loop\n",
    "reload(loop)\n",
    "model = GPT()"
   ]
  },
  {
   "cell_type": "code",
   "execution_count": 11,
   "metadata": {},
   "outputs": [
    {
     "name": "stdout",
     "output_type": "stream",
     "text": [
      "https://www.highshortinterest.com/ 200\n",
      "https://www.marketwatch.com/investing/stock/allo 200\n",
      "https://www.marketwatch.com/investing/stock/cvna 200\n",
      "https://www.marketwatch.com/investing/stock/gpro 200\n",
      "https://www.marketwatch.com/investing/stock/root 200\n",
      "https://www.marketwatch.com/investing/stock/bbig 200\n",
      "The model wants to finish.\n"
     ]
    },
    {
     "data": {
      "text/markdown": [
       "# High Short Interest Stocks Analysis\n",
       "\n",
       "## Introduction\n",
       "\n",
       "The aim of this analysis was to identify stocks with high short interest, which may potentially lead to a short squeeze in the instance of positive catalysts. This comprehensive research primarily revolved around examining five stocks in depth, discerning important information such as the stock price, market cap, float, short interest, short ratio, and other key metrics. Additionally, an overview of each company's business model, products, services, and sector they operate was taken into consideration.\n",
       "\n",
       "### Rationale and Methodology\n",
       "\n",
       "High short interest stocks are sought after due to their potential for a short squeeze, a situation in which a stock's price increases sharply due to high demand, essentially forcing those who bet against the stock to buy it in order to forestall even bigger losses. These stocks were selected from [High Short Interest](https://www.highshortinterest.com/), a fortified financial data platform. Detailed metrics were further retrieved from [Market Watch](https://www.marketwatch.com/), a reliable financial data provider.\n",
       "\n",
       "## Main Findings\n",
       "\n",
       "###1. Allogene Therapeutics Inc (Nasdaq: ALLO)\n",
       "\n",
       "- Current Price: $5.50\n",
       "- Market Cap: $770.04M\n",
       "- Public Float: 76.58M\n",
       "- Short Interest: 49.86%\n",
       "- Short Ratio: Not available\n",
       "- Beta: 1.23\n",
       "- Revenue per Employee: $648.20\n",
       "\n",
       "Allogene Therapeutics Inc is a clinical-stage immuno-oncology company pioneering the development and commercialization of genetically engineered allogeneic T-cell therapies for the treatment of cancer.\n",
       "\n",
       "###2. Carvana Co (NYSE: CVNA)\n",
       "\n",
       "- Current Price: $45.43\n",
       "- Market Cap: $8.85B\n",
       "- Public Float: 84.64M\n",
       "- Short Interest: 49.21%\n",
       "- Short Ratio: Not available\n",
       "- Beta: 2.32\n",
       "- Revenue per Employee:$710.66K\n",
       "\n",
       "Carvana Co. is an eCommerce platform that provides a complete and seamless car buying experience for customers with options for financing, purchase, trade-in, and delivery scheduling.\n",
       "\n",
       "###3. GoPro Inc (Nasdaq: GPRO)\n",
       "\n",
       "- Current Price: $4.1300\n",
       "- Market Cap: $663.24M\n",
       "- Public Float: 125.76M\n",
       "- Short Interest: Not available\n",
       "- Short Ratio: Not available\n",
       "- Beta: 1.47\n",
       "- Revenue per Employee: $1.199M\n",
       "\n",
       "GoPro Inc is a manufacturer and seller of camera and camera accessories, with a range of mountable and wearable capture devices.\n",
       "\n",
       "###4. Root Inc (Nasdaq: ROOT)\n",
       "\n",
       "- Current Price: $11.33\n",
       "- Market Cap: $164.2M\n",
       "- Public Float: 5.26M\n",
       "- Short Interest: Not available\n",
       "- Short Ratio: Not available\n",
       "- Beta: 1.85\n",
       "- Revenue per Employee: $386.27K\n",
       "\n",
       "Root Inc is an insurance provider that utilizes mobile telematics and technology platforms to segment individual risk based on complex behavioral data and the customer experience.\n",
       "\n",
       "###5. Vinco Ventures Inc (Nasdaq: BBIG)\n",
       "\n",
       "- Current Price: $3.279\n",
       "- Market Cap: $33.12M\n",
       "- Public Float: 12.39M\n",
       "- Short Interest: 1.25M\n",
       "- % of Float Shorted: 10.07%\n",
       "- Beta: 0.81\n",
       "- Revenue per Employee: $647.09K\n",
       "\n",
       "Vinco Ventures, Inc. is focused on the development of digital media and content technologies. It operates business platforms through its consolidated subsidiary, ZVV Media Partners, LLC and has interests in various digital platforms such as video sharing, advertising, and digital commerce.\n",
       "\n",
       "## Conclusion\n",
       "\n",
       "This analysis provides an interpretation of selected high short interest stocks which may hold the potential for a short squeeze. Given their high short interest and significant market presence, these stocks depict noteworthy potential.\n",
       "\n",
       "However, it is crucial to understand that investing in such stocks does call for vigilance. High short interest can signal that a significant portion of market participants have a negative viewpoint about a company's future. Hence, investors should consider the associated risk and the overall market condition before making any investment decisions.\n",
       "\n",
       "This analysis revolved around limited financial metrics, and for a more comprehensive viewpoint of these companies, additional metrics encompassing forward and trailing Price-Earnings ratio, EBITDA, dividend yields, debt-to-equity ratio, and others could be examined. Moreover, an analysis of the business model, the competitive landscape, recent financial results, and future strategies of each company could provide further insights."
      ],
      "text/plain": [
       "<IPython.core.display.Markdown object>"
      ]
     },
     "metadata": {},
     "output_type": "display_data"
    }
   ],
   "source": [
    "task = \"\"\"Identify stocks with high short interest, which could lead to a short squeeze in the event of positive catalysts.\n",
    "You may list meme stocks, penny stocks, or any other type of stock.\n",
    "Conduct your due diligence and research of at least 5 stocks in depth.\n",
    "You can remove stocks from your list after researching the details and deciding they are not worth mentioning.\n",
    "Provide your rasoning for each stock you picked.\n",
    "Tell me every minor detail you can find about the stock and all key metrics.\n",
    "Tell me the stock's price, market cap, float, short interest, short ratio, and any other key metrics.\n",
    "Also give me a summary of the company's business model, products, and services.\"\"\"\n",
    "answer = complete_task(task, model)\n",
    "display(Markdown(answer))"
   ]
  },
  {
   "cell_type": "code",
   "execution_count": 5,
   "metadata": {},
   "outputs": [
    {
     "name": "stdout",
     "output_type": "stream",
     "text": [
      "https://www.google.com/search?q=most+significant+scientific+breakthroughs+21st+century 200\n",
      "https://www.isbglasgow.com/10-greatest-scientific-discoveries-and-inventions-of-21st-century/ 200\n",
      "https://www.google.com/search?q=detection+of+gravitational+waves+discovery+details 200\n",
      "https://www.google.com/search?q=The+Human+Genome+Project+details 200\n",
      "https://www.google.com/search?q=Discovery+of+new+human+ancestors+details 200\n",
      "https://www.google.com/search?q=Discovery+of+dark+matter+details 200\n",
      "https://www.google.com/search?q=Impact+of+The+Human+Genome+Project 200\n",
      "https://www.google.com/search?q=Impact+and+discovery+details+of+Sequencing+Genome+of+Cancer+Patient 200\n",
      "https://www.ncbi.nlm.nih.gov/pmc/articles/PMC6719592/ 200\n",
      "The model wants to finish.\n"
     ]
    },
    {
     "data": {
      "text/markdown": [
       "# Introduction\n",
       "\n",
       "The objective given to me was to compile a list of the 7 most relevant scientific breakthroughs of the 21st century. The key details for each breakthrough include the year of the discovery, a description of the discovery, its impact, and the individual or group who discovered it. To accomplish this, I conducted a detailed search and analysis across multiple reliable sources to gather precise and relevant information for each of the seven scientific breakthroughs.\n",
       "\n",
       "# Main Part\n",
       "## 1. Detection of Gravitational Waves\n",
       "The first detection of gravitational waves in 2015 can be credited to the Laser Interferometer Gravitational-Wave Observatory (LIGO). Stemming from a collision of two black holes 1.3 billion years ago, this groundbreaking discovery has the potential to revolutionize our understanding of the universe by opening up a new way for astronomers to observe the cosmos. [Source](https://www.google.com/search?q=detection+of+gravitational+waves+discovery+details)\n",
       "\n",
       "## 2. Evidence of Water on Mars\n",
       "In 2015, NASA confirmed the presence of liquid water on the surface of Mars. This discovery carries momentous implications for the future of space exploration, significantly enhancing the prospects for potential life on Mars. [Source: ISB Glasgow](https://www.isbglasgow.com/10-greatest-scientific-discoveries-and-inventions-of-21st-century/)\n",
       "\n",
       "## 3. The Human Genome Project\n",
       "Completed in 2003 by an international group of researchers, the Human Genome Project aimed to identify all the genes within the human genome and analyze the genetic information. This has paved the way for new diagnostic methods and treatments for hereditary diseases. [Source](https://www.google.com/search?q=Impact+of+The+Human+Genome+Project)\n",
       "\n",
       "## 4. Discovery of Dark Matter\n",
       "Initially identified in 1933 but only gaining substantial recognition in 2006, the discovery of dark matter by Fritz Zwicky of Caltech has contributed to our understanding of the universe's structure and evolution. Believed to account for approximately 85% of the matter in the universe, dark matter remains a critical area of ongoing research. [Source](https://www.google.com/search?q=Discovery+of+dark+matter+details)\n",
       "\n",
       "## 5. Discovery of New Human Ancestors\n",
       "New hominid species have been discovered in the 21st century; including Homo luzonensis (2019), Denisovan mandible (2019), Homo bodoensis (2021), and a potential new human ancestor. These discoveries by various international groups of researchers are progressively reshaping our understanding of human evolution and our relationship with other hominid species. [Source](https://www.google.com/search?q=Discovery+of+new+human+ancestors+details)\n",
       "\n",
       "## 6. Advancements in HIV Cure\n",
       "Dr. Gero Hutter achieved a landmark feat in 2007 when he successfully cured a patient of HIV/AIDS. This was accomplished through the transplantation of bone marrow from an HIV-immune donor to the patient. This significant advancement marks a notable leap in the quest to find a viable cure for HIV/AIDS. [Source: ISB Glasgow](https://www.isbglasgow.com/10-greatest-scientific-discoveries-and-inventions-of-21st-century/)\n",
       "\n",
       "## 7. Sequencing Genome of Cancer Patient\n",
       "In 2003, scientists successfully sequenced the human genome, shedding light on the mutations leading to cancer. This discovery facilitated the development of mutation-targeted cancer therapies and more accurate prediction of patient response to immunotherapies. Pioneered by Elaine R. Mardis from The Ohio State University College of Medicine, this exploration greatly impacted the management of cancer, paving the way for precision oncology. [Source: National Center for Biotechnology Information](https://www.ncbi.nlm.nih.gov/pmc/articles/PMC6719592/)\n",
       "\n",
       "# Conclusion\n",
       "\n",
       "From the detection of gravitational waves to the sequencing of the human genome, the 21st century has witnessed an array of scientific breakthroughs that have changed the course of human understanding and opened up new avenues for exploration. Despite the expansive knowledge each discovery has offered, each breakthrough also represents a stepping stone towards more questions and deeper findings. Future research directions could involve further exploration into the mysteries of dark matter, the application of the human genome sequence for more diseases, and the development of a universally applicable HIV cure."
      ],
      "text/plain": [
       "<IPython.core.display.Markdown object>"
      ]
     },
     "metadata": {},
     "output_type": "display_data"
    }
   ],
   "source": [
    "task = \"\"\"Compile a table of the 7 most relevant scientific breakthroughs of the 21st century.\n",
    "The columns should be: Year, Discovery, Description, Impact, and who discovered it.\"\"\"\n",
    "answer = complete_task(task, model)\n",
    "display(Markdown(answer))\n",
    "# The model ignored the table and made a list instead. This should be fixed in the future."
   ]
  },
  {
   "cell_type": "code",
   "execution_count": 8,
   "metadata": {},
   "outputs": [
    {
     "name": "stdout",
     "output_type": "stream",
     "text": [
      "https://www.google.com/search?q=current+president+of+the+United+States 200\n",
      "https://www.google.com/search?q=current+chancellor+of+Germany 200\n",
      "https://www.google.com/search?q=Joe+Biden+and+Olaf+Scholz+meeting 200\n",
      "https://www.whitehouse.gov/briefing-room/statements-releases/2023/03/03/readout-of-president-joe-bidens-meeting-with-chancellor-olaf-scholz-of-germany/ 200\n",
      "The model wants to finish.\n"
     ]
    },
    {
     "data": {
      "text/markdown": [
       "# Introduction\n",
       "The task was to investigate and summarize brief biographical details about the current president of the United States and the current chancellor of Germany. Additionally, it was pertinent to discover if they have met so far and if yes, the specifics of their meeting were to be determined.\n",
       "\n",
       "The context of this research presents an intersection between international politics and high-level geopolitical relationships. The two figures in question, the U.S. President and the German Chancellor, are key players on the global stage hence their biographies along with their interactions would help in providing context to their political decisions and policies.\n",
       "\n",
       "# Main Part\n",
       "## Finding 1: The 46th President of the United States, Joe Biden\n",
       "Joe Biden, born on November 20, 1942, in Scranton, Pennsylvania, is the 46th President of the United States. He assumed office on January 20, 2021. Biden is affiliated with the Democratic Party and also served as the 47th Vice President under the Barack Obama administration from 2009 to 2017. Prior to this, he represented the state of Delaware in the U.S. Senate from 1973 to 2009. More extensive details on his career and works can be found on his [Wikipedia page](https://en.wikipedia.org/wiki/Joe_Biden).\n",
       "\n",
       "## Finding 2: The Chancellor of Germany, Olaf Scholz\n",
       "Olaf Scholz was born on June 14, 1958, in Osnabrück, Germany, and took on the role of the German Chancellor on December 8, 2021, succeeding Angela Merkel. He is a member of the Social Democratic Party of Germany. Before becoming the Chancellor, Scholz served as the Vice-Chancellor in the fourth Merkel cabinet and carried out other political responsibilities, including Federal Minister of Finance and First Mayor of Hamburg. Scholz received his education from the University of Hamburg from 1978–1985. Comprehensive information about Scholz's career can be found on his [Wikipedia page](https://en.wikipedia.org/wiki/Olaf_Scholz).\n",
       "\n",
       "## Finding 3: The Meeting of President Joe Biden and Chancellor Olaf Scholz\n",
       "President Joe Biden and Chancellor Olaf Scholz have indeed had a significant meeting at the White House on March 3, 2023. In this meeting, they discussed Russia’s invasion of Ukraine, expressing their combined commitment to supporting Ukraine with security, humanitarian, economic, and political assistance. The talks also emphasized imposing costs on Russia for its aggressiveness. More precise details of this meeting can be accessed from the [White House Briefing Room](https://www.whitehouse.gov/briefing-room/statements-releases/2023/03/03/readout-of-president-joe-bidens-meeting-with-chancellor-olaf-scholz-of-germany/).\n",
       "\n",
       "# Conclusion\n",
       "In summary, this research outlines vital details about the current U.S. President Joe Biden and the German Chancellor Olaf Scholz. They both carry long-standing political careers having served in various positions before assuming their current roles. Their meeting at the White House in March 2023 signified a mutual commitment to global issues like the Russia-Ukraine conflict.\n",
       "\n",
       "The implications of their biographies and their dialogue series resonate prominently in the realm of international politics. While the data here provides a foundational understanding of the figures and their associations, it should be noted that geopolitical interactions have far more profound nuances and broader consequences that extend beyond the scope of this research.\n",
       "\n",
       "Further investigation could direct towards analyzing the impact of Biden's and Scholz's individual political careers on their countries' domestic and foreign policies. Alongside, a detailed study of their discussions and agreements in their meetings could potentially shed light on future bilateral relations between the U.S and Germany."
      ],
      "text/plain": [
       "<IPython.core.display.Markdown object>"
      ]
     },
     "metadata": {},
     "output_type": "display_data"
    }
   ],
   "source": [
    "task = \"\"\"Look up the current president of the United States and write a short biography about him or her.\n",
    "Then look up the current chancellor of Germany and write a short biography about him or her.\n",
    "Have both ever met? If so, when and where?\"\"\"\n",
    "answer = complete_task(task, model)\n",
    "display(Markdown(answer))"
   ]
  },
  {
   "cell_type": "code",
   "execution_count": 14,
   "metadata": {},
   "outputs": [
    {
     "name": "stdout",
     "output_type": "stream",
     "text": [
      "https://www.google.com/search?q=aktuelle+DAX+Marktanalyse 200\n",
      "https://www.finanzen.net/nachrichten/rubrik/marktanalysen 200\n",
      "https://www.google.com/search?q=aktuelle+Dow+Jones+Marktanalyse 200\n",
      "https://www.marketwatch.com/investing/index/djia 200\n",
      "The model wants to finish.\n"
     ]
    },
    {
     "data": {
      "text/markdown": [
       "# Analyse der aktuellen Marktsituation: DAX versus Dow Jones\n",
       "\n",
       "Bei der Untersuchung wurden umfassende Marktbewertungen für den Deutschen Aktienindex (DAX) und Dow Jones durchgeführt, um einen aktuellen Vergleich beider zu ermöglichen. \n",
       "\n",
       "## Ergebnisse\n",
       "\n",
       "### 1. Aktuelle Marktsituation DAX\n",
       "Laut einer Analyse auf [finanzen.net](https://www.finanzen.net/nachrichten/rubrik/marktanalysen), erhöhte sich der DAX auf 16.177 Punkte. Ebenfalls berichtet [tagesschau.de](https://www.tagesschau.de/wirtschaft/finanzen/marktberichte), dass der DAX eine leichte Schwächung erleiden musste, indem die Investoren das Tempo drosselten. Trotz der beschriebenen kurzfristigen Schwächung zeigte [dzbank-derivate.de](https://www.dzbank-derivate.de/markets/daxanalyse) einen dynamischen Erholungskurs des DAX im Tagesverlauf.\n",
       "\n",
       "### 2. Aktuelle Marktsituation Dow Jones\n",
       "Der Dow Jones Industrial Average liegt laut [marketwatch.com](https://www.marketwatch.com/investing/index/djia) bei 35.305,71 Punkten, was eine Steigerung um 80,53 Punkte oder 0,23% vom letzten Börsenschluss bedeutet. Zudem ist innerhalb der letzten 5 Tage eine Zunahme von 2,31% festzustellen. Innerhalb des letzten Monats betrug die Zunahme 4,68%. Jahresweise sieht es sogar nach einer Zunahme von 10,68% und aktuell vom Jahresbeginn eine Zunahme von 6,51% aus.\n",
       "\n",
       "## Schlussfolgerungen\n",
       "Trotz kleineren wirtschaftlichen Instabilitäten zeigt die Analyse von DAX und Dow Jones insgesamt Aufwärtstrends. Der DAX zeigt Erholungstendenzen, während der Dow Jones eine robuste monatliche Leistung vorweist.\n",
       "\n",
       "## Einschränkungen und weitere Schritte\n",
       "Diese Analyse ersetzt keine umfassenden Finanzberatungen und ist auf einige wenige, vertrauenswürdige ausgewählte Nachrichten- und Finanzquellen beschränkt. Ein umfassenderer Einblick könnte durch Eingeben weiterer Ressourcen, die Einbeziehung von technischer Analyse und wirtschaftlichen Prognosen gewonnen werden. Zukünftige Untersuchungen könnten darauf abzielen, diese Aspekte zu integrieren und die Entwicklung der Märkte DAX und Dow Jones im Laufe der Zeit systematischer zu verfolgen. Der stetig wandelnde Finanzmarkt erfordert kontinuierliches Monitoring und Analyse, um fundierte Aussagen und Vorhersagen treffen zu können.\n"
      ],
      "text/plain": [
       "<IPython.core.display.Markdown object>"
      ]
     },
     "metadata": {},
     "output_type": "display_data"
    }
   ],
   "source": [
    "task = \"\"\"Analysiere die aktuelle Marktsituation vom DAX und vergleiche sie mit der Marktsituation vom Dow Jones.\"\"\"\n",
    "answer = complete_task(task, model)\n",
    "display(Markdown(answer))"
   ]
  },
  {
   "cell_type": "code",
   "execution_count": 18,
   "metadata": {},
   "outputs": [
    {
     "name": "stdout",
     "output_type": "stream",
     "text": [
      "https://www.google.com/search?q=iShares+Global+Clean+Energy+ETF 200\n",
      "https://www.ishares.com/us/products/239738/ishares-global-clean-energy-etf 200\n",
      "The model wants to finish.\n"
     ]
    },
    {
     "data": {
      "text/markdown": [
       "# iShares Global Clean Energy ETF: Composition, Investment Strategy, and Past Performance\n",
       "\n",
       "## Introduction\n",
       "\n",
       "The task assigned was to investigate the iShares Global Clean Energy ETF (ICLN), focusing on key facts such as the ETF's composition, investment strategy, and performance record. An Exchange-Traded Fund (ETF) is a type of security that involves a collection of securities—such as stocks—that often tracks an underlying index. iShares Global Clean Energy ETF is an equity fund managed by BlackRock that specifically targets the clean energy sector worldwide.\n",
       "\n",
       "## Findings\n",
       "\n",
       "### Investment Objective and Strategy\n",
       "\n",
       "The iShares Global Clean Energy ETF seeks to track the investment results of an index composed of global equities in various sectors of the clean energy domain [source](https://www.ishares.com/us/products/239738/ishares-global-clean-energy-etf). This means it provides exposure to companies that produce energy from renewable resources such as wind, solar power, and others. Uniquely, the fund's investment objective aligns with a range of sustainable screens. These include controversial weapons, small arms, military contracting, tobacco, thermal coal, oil sands, shale energy, and arctic oil and gas exploration.\n",
       "\n",
       "### Composition\n",
       "\n",
       "As per data retrieved on July 20, 2023, the fund holds 102 individual holdings with net assets valued at approximately $4,228,445,248 [source](https://www.ishares.com/us/products/239738/ishares-global-clean-energy-etf). It has equity beta of 1.06, signifying higher volatility compared to the market. The 30-day SEC yield for the fund stands at 1.02% and a 12-month trailing yield of 0.88%. The fund's P/E ratio is calculated to be 16.68, and it has a P/B ratio of 2.07, which represents the valuation ratios of the companies within the fund's holdings. The standard deviation over three years is 34.24%, indicating a high level of risk and volatility in the fund's returns.\n",
       "\n",
       "### Performance\n",
       "\n",
       "The fund's inception date was June 24, 2008. As of the data sourced on July 20, 2023, the Net Asset Value (NAV) of the fund stands at $18.78. Over the past year, the fund recorded a 52-week high of $23.58 and a low of $17.56 [source](https://www.ishares.com/us/products/239738/ishares-global-clean-energy-etf). Consequently, the fund experienced a Year-to-Date (YTD) negative return of -4.94%.\n",
       "\n",
       "### Management and Rating\n",
       "\n",
       "The fund carries a management fee of 0.40% and a similar expense ratio, indicating a low cost to investors for the fund management. The fund has an MSCI ESG Fund rating of A, signifying favorable sustainability characteristics relative to its peers, with an ESG Quality Score of 6.9.\n",
       "\n",
       "## Conclusion\n",
       "\n",
       "The iShares Global Clean Energy ETF is a fund that seeks to invest in clean energy sectors worldwide, aligning its strategy with numerous sustainability screens. The fund follows a risky but potential high-reward strategy reflected in its diverse holding of 102 stocks from different sectors, high standard deviation, and an equity beta greater than one. However, the performance has been struggling in the short term, posting a negative YTD return.\n",
       "\n",
       "While this analysis provides a snapshot of the fund's current status, future performance may be influenced by multiple factors, including global economic conditions, market volatility, and specific developments in the clean energy sector.\n",
       "\n",
       "Further insights could be obtained by assessing the fund's portfolio holdings in detail and understanding each component's individual performance."
      ],
      "text/plain": [
       "<IPython.core.display.Markdown object>"
      ]
     },
     "metadata": {},
     "output_type": "display_data"
    }
   ],
   "source": [
    "task = \"\"\"Find the iShares Global Clean Energy ETF online and take a look at it's factsheet.\n",
    "Tell me key facts about the ETF. Describe the composition, investment strategy, and past performance of the ETF.\"\"\"\n",
    "answer = complete_task(task, model)\n",
    "display(Markdown(answer))"
   ]
  },
  {
   "cell_type": "code",
   "execution_count": 16,
   "metadata": {},
   "outputs": [
    {
     "name": "stdout",
     "output_type": "stream",
     "text": [
      "https://www.google.com/search?q=February+3+2022+events 200\n",
      "https://en.wikipedia.org/wiki/Portal:Current_events/2022_February_3 200\n",
      "The model wants to finish.\n"
     ]
    },
    {
     "data": {
      "text/markdown": [
       "# Summary of Events that Took Place on February 3rd, 2022\n",
       "\n",
       "## Introduction\n",
       "\n",
       "This task required to determine the significant events that occurred on February 3rd, 2022 worldwide. Events unfolding on a specific day can cover a range of topics, including political developments, armed conflicts, sporting events, health and environment-related news. Therefore, a diverse group of reliable sources was utilized to establish an accurate understanding of what transpired on that day. \n",
       "\n",
       "## Main Findings\n",
       "\n",
       "**Armed conflicts and attacks**:\n",
       "\n",
       "On this day, there were multiple instances of armed conflicts and attacks. As reported on [Wikipedia](https://en.wikipedia.org/wiki/Portal:Current_events/2022_February_3), the U.S. embassy in Kyiv, as part of the Russo-Ukrainian crisis and the War in Donbas, demanded Russia to comply with a ceasefire following pro-Russian forces' attack on the Hnutove checkpoint. Also, a supposed airspace violation by a Ukrainian Air Force drone over a Belarusian military training area was reported as well. Lastly, the leader of the Islamic State, Abu Ibrahim al-Hashimi al-Qurashi, was reported dead following a U.S-led raid in Idlib Governorate, Syria. \n",
       "\n",
       "**Disasters and Accidents**:\n",
       "\n",
       "A major disaster unfolded off the Nigerian coast involving the Trinity Spirit, an oil tanker, which caught fire and exploded. Additional details of this incident were discussed in the same [Wikipedia](https://en.wikipedia.org/wiki/Portal:Current_events/2022_February_3) article.\n",
       "\n",
       "**Health and Environment**:\n",
       "\n",
       "In the middle of the ongoing COVID-19 pandemic, a few significant developments were outlined on [Wikipedia](https://en.wikipedia.org/wiki/Portal:Current_events/2022_February_3). India recorded over 500,000 COVID-19 related deaths, and Japan crossed three million cases. Meanwhile, Malaysia started the mass vaccination for children aged 5-11, and France passed the grim landmark of 20 million cases. The Novavax vaccine received approval from both the German Committee on Vaccination and the UK's Medicines and Healthcare products Regulatory Agency. Brazil reported a record 298,408 new cases. In a major step towards vaccine accessibility, South Africa's Afrigen Biologics began creating their own version of the vaccine using Moderna's COVID-19 vaccine sequence.\n",
       "\n",
       "**International Relations**:\n",
       "\n",
       "In the field of international relations, Russia withdrew the press credentials of all Deutsche Welle staff and closed the German media organization's studio in Moscow. This action was a response to Germany's actions against RT Deutsch earlier.\n",
       "\n",
       "**Law and Crime**: \n",
       "\n",
       "An alarming event unfolded in Buenos Aires, Argentina, where 20 people died and 74 others were hospitalized as a result of consuming poisoned cocaine.\n",
       "\n",
       "**Political Developments**:\n",
       "\n",
       "In the political world, four senior aides to the UK Prime Minister, Boris Johnson, resigned amid the ongoing Partygate scandal.\n",
       "\n",
       "**Sports**:\n",
       "\n",
       "The Colombian baseball team, Caimanes de Barranquilla, became the first Colombian team to win the Caribbean Series 2022 after defeating Gigantes del Cibao 4–1.\n",
       "\n",
       "## Conclusion\n",
       "\n",
       "The events of February 3rd, 2022 were diversified, covering a wide range of topics from armed conflicts, disasters, health and environment news, international relations, to law and crime, politics, and sports. These findings paint a comprehensive picture of the day's global events, highlighting the interconnectedness of worldwide happenings. However, it is important to note that these findings only cover what is most prominently reported and may not include all global occurrences of the day. \n",
       "\n",
       "The next steps for further investigation could involve checking country-specific news outlets or specialized sources for a more in-depth understanding of these events, examination of social media trends of the day, or corroborating information with more databases or archives.\n"
      ],
      "text/plain": [
       "<IPython.core.display.Markdown object>"
      ]
     },
     "metadata": {},
     "output_type": "display_data"
    }
   ],
   "source": [
    "task = \"\"\"What happend on February 3rd of the current year?\"\"\"\n",
    "answer = complete_task(task, model)\n",
    "display(Markdown(answer))\n",
    "# Mistake: The model should have looked up the current year."
   ]
  },
  {
   "cell_type": "code",
   "execution_count": 17,
   "metadata": {},
   "outputs": [
    {
     "name": "stdout",
     "output_type": "stream",
     "text": [
      "https://www.yandex.ru/search/?text=ситуация%20на%20Украине%20новости 200\n",
      "https://www.rt.com/russia/ 200\n",
      "https://www.google.de/search?q=ukraine+krisensituation+aktuell 200\n",
      "https://www.frnd.de/ukraine/ 200\n",
      "The model wants to finish.\n"
     ]
    },
    {
     "data": {
      "text/markdown": [
       "# Summary Report - Comparing the Reporting on the Situation in Ukraine\n",
       "\n",
       "## Introduction\n",
       "This analysis set out to compare news reporting on the current situation in Ukraine, using two different sources: Russian and German. The purpose of the task was to contrast narratives and understand how different cultural and geopolitical contexts might affect the representation of an international crisis. \n",
       "\n",
       "## Main Findings\n",
       "\n",
       "### Origin and Focus of Russian Reporting\n",
       "The Russian news site [RT](https://www.rt.com/russia/) was used to study Russian reporting. The site's coverage shows a distinct focus on the military aspects of the situation in Ukraine. Headlines featured considerations on warfare, tactical movements, and decisions. It should be noted that RT's headlines stressed the international influence on the conflict, particularly Western involvement. The West's engagement was often presented critically, as seen in the articles like \"UK sanctions on kids’ center are ‘height of insanity’ – Kremlin\" and \"Ukraine begins using US-provided cluster munitions – WaPo\". RT also reported on domestic issues within Ukraine such as the article \"Zelensky fires diplomat who criticized him\", shedding light on the internal dynamics of the country amidst the crisis.\n",
       "\n",
       "### Perspective and emphasis of German Reporting\n",
       "German sources were extracted from the Google.de search on [\"ukraine krisensituation aktuell\"](https://www.google.de/search?q=ukraine+krisensituation+aktuell). The results displayed a somewhat different perspective in comparison to Russian media. For example, an article from [FRND](https://www.frnd.de/ukraine/) drew attention to the psychological impact of the crisis, outlining support systems available for those affected. This focus on the human aspect of the conflict suggests a German narrative centered on the humanitarian consequences of the conflict. Broadly, the German sources examined emphasize the crisis as a humanitarian disaster, frequently caused by Russian aggression.\n",
       "\n",
       "## Conclusion\n",
       "Upon comparing Russian and German news sources, an interesting divergence in focus became evident. The Russian source, RT, had an emphasis on the military and geopolitical aspects of the conflict, with an implicit critique of Western involvement. Contrastingly, the German sources foregrounded the humanitarian costs of the conflict, offering assistance to those affected, thus signaling a more human-centric narrative.\n",
       "\n",
       "This comparison constitutes general tendencies identified in Russian and German news reports and does not claim to represent the totality of journalistic coverage in these countries. However, this analysis provides valuable insights into the nature of international reporting, implicitly underlining the influence of geographical, cultural, and political contexts on narratives of an international crisis.\n",
       "\n",
       "As a further step, it could be interesting to explore specific news articles in greater detail to understand more about language use, rhetorical practices, and argumentative structures. This could help to deepen our understanding of how narratives are constructed in international news reporting."
      ],
      "text/plain": [
       "<IPython.core.display.Markdown object>"
      ]
     },
     "metadata": {},
     "output_type": "display_data"
    }
   ],
   "source": [
    "task = \"\"\"Analyze the news reporting on the current situation in the Ukraine. Search for russian soures in russian language and compare them to german sources in german language.\"\"\"\n",
    "answer = complete_task(task, model)\n",
    "display(Markdown(answer))"
   ]
  },
  {
   "cell_type": "code",
   "execution_count": 11,
   "metadata": {},
   "outputs": [
    {
     "name": "stdout",
     "output_type": "stream",
     "text": [
      "https://www.google.com/search?q=ancient+memory+techniques+method+of+loci 200\n",
      "https://www.verywellhealth.com/will-the-method-of-loci-mnemonic-improve-your-memory-98411 200\n",
      "https://www.google.com/search?q=other+ancient+memory+techniques 200\n",
      "https://www.magneticmemorymethod.com/ancient-memory-techniques/ 200\n",
      "https://www.learningscientists.org/blog/2017/2/2-1 200\n",
      "https://www.google.com/search?q=scientific+research+on+ancient+memory+techniques 200\n",
      "https://www.google.com/url?q=https://www.sciencealert.com/ancient-ancient-australian-memory-tool-is-superior-to-the-memory-palace-technique&sa=U&ved=2ahUKEwinjYuatKCAAxUIyDgGHXzOA2AQFnoECAMQAg&usg=AOvVaw1Yk3cz0p30u23BdKe5EAHB 200\n",
      "https://www.google.com/url?q=https://www.theguardian.com/science/2017/mar/08/ancient-technique-can-dramatically-improve-memory-research-suggests-memory-palace&sa=U&ved=2ahUKEwjx7_HqtKCAAxV0zjgGHan8AncQFnoECAMQAg&usg=AOvVaw05bAPYACgFqjxtLuMyPJwz 200\n",
      "https://www.google.com/search?q=scientific+research+on+Story+ancient+memory+techniques 200\n",
      "https://www.sciencealert.com/ancient-ancient-australian-memory-tool-is-superior-to-the-memory-palace-technique 200\n",
      "https://www.google.com/search?q=scientific+research+on+Songlines+ancient+memory+techniques 200\n",
      "https://www.ncbi.nlm.nih.gov/pmc/articles/PMC8130951/ 200\n",
      "https://www.google.com/search?q=scientific+research+on+Lukasa+ancient+memory+techniques 200\n",
      "https://aeon.co/ideas/this-ancient-mnemonic-technique-builds-a-palace-of-memory 200\n",
      "https://www.google.com/search?q=scientific+research+on+Memory+spaces+ancient+memory+techniques 200\n"
     ]
    },
    {
     "data": {
      "text/markdown": [
       "# Rediscovering the Memory Techniques of Ancient Orators and Scholars\n",
       "\n",
       "The task was to delve into the memory techniques used by ancient orators and scholars and explore how these methods might enhance modern memory retention and learning, eventually compiling these findings into a blog post. These practices included the well-known mnemonic strategy known as the method of loci, along with several other memorization techniques such as Story, Songlines, Lukasa, Memory spaces, and Hand mnemonics. The goal was to withdraw information from reliable scientific sources to understand these techniques' underpinnings and potential modern applications.\n",
       "\n",
       "## The Method of Loci\n",
       "\n",
       "The [method of loci](https://www.verywellhealth.com/will-the-method-of-loci-mnemonic-improve-your-memory-98411) is a memory-enhancing strategy that involves placing pieces of information around a room in one's imagination and then walking back through this mental space to pick up the information. This method holds value in diverse contexts, from preparing speeches to handling sequential memory tasks, and even shows promise in assisting people with memory-related diseases. A [study](https://www.theguardian.com/science/2017/mar/08/ancient-technique-can-dramatically-improve-memory-research-suggests-memory-palace) highlighted that cultivating a 'memory palace' demonstrated dramatic and long-lasting improvements to recall following training. In some cases, individuals more than doubled the words they could retain in a short time period, even four months later.\n",
       "\n",
       "## The Story Technique\n",
       "\n",
       "Another effective memory technique practiced by the Aboriginal Australians revolves around constructing narrative stories related to visible features (plants, rocks, etc.) and practicing them in a specific sequence. One [study](https://journals.plos.org/plosone/article?id=10.1371/journal.pone.0251710) involving medical students memorizing butterfly names found that students trained in the Australian Aboriginal technique (story-based memory technique) made significantly fewer errors than those who used the method of loci. However, it's pertinent to note that this technique requires sustained practice for retaining information longer than a day.\n",
       "\n",
       "## The Songlines Technique\n",
       "\n",
       "[Songlines](https://www.google.com/url?q=https://www.sciencealert.com/ancient-ancient-australian-memory-tool-is-superior-to-the-memory-palace-technique&sa=U&ved=2ahUKEwinjYuatKCAAxUIyDgGHXzOA2AQFnoECAMQAg&usg=AOvVaw1Yk3cz0p30u23BdKe5EAHB) is another memory technique used by the Aboriginal Australians characterized by creating memory \"paths\" across the land. These Songlines allowed a vast and complex web of knowledge to be accurately transmitted for thousands of generations, showcasing their ability to significantly improve recall and memory retention.\n",
       "\n",
       "## The Lukasa Technique\n",
       "\n",
       "The [Lukasa](https://aeon.co/ideas/this-ancient-mnemonic-technique-builds-a-palace-of-memory) technique, utilized by the Luba people of West Africa, involves the use of a memory board to recall a vast corpus of stories, dances, and songs associated with the beads and shells attached to a piece of carved wood. This technique, akin to the method of loci, facilitates memory through imagined physical locations.\n",
       "\n",
       "##Memory Spaces and Hand Mnemonics\n",
       "\n",
       "Further scientific investigations and searches are needed on Memory spaces and Hand mnemonics as there was insufficient data to provide detailed information on these methods.\n",
       "\n",
       "In conclusion, these ancient techniques not only provide an intriguing glance at the memorization practices of old but also entail potential applications in our modern world. They highlight the importance of imaginative visualization and narrative structures in memory storage and retrieval. The adaptability and effectiveness of these techniques are of primary significance, with potential implications in various fields, including education, professional training, and healthcare settings, particularly with memory-related diseases. The major limitation noted is both the paucity of scientific studies on all the techniques, besides the Method of Loci, and the requirement of sustained practice for effective results. Further research could offer a deeper and more comprehensive understanding of these memory techniques and their potential in contemporary settings."
      ],
      "text/plain": [
       "<IPython.core.display.Markdown object>"
      ]
     },
     "metadata": {},
     "output_type": "display_data"
    }
   ],
   "source": [
    "task = \"\"\"Delve into the memory techniques used by ancient orators and scholars (e.g., method of loci) and explore how these methods can enhance modern memory retention and learning.\n",
    "Write a blog post about your findings.\"\"\"\n",
    "answer = complete_task(task, model)\n",
    "display(Markdown(answer))"
   ]
  }
 ],
 "metadata": {
  "kernelspec": {
   "display_name": "base",
   "language": "python",
   "name": "python3"
  },
  "language_info": {
   "codemirror_mode": {
    "name": "ipython",
    "version": 3
   },
   "file_extension": ".py",
   "mimetype": "text/x-python",
   "name": "python",
   "nbconvert_exporter": "python",
   "pygments_lexer": "ipython3",
   "version": "3.10.9"
  },
  "orig_nbformat": 4
 },
 "nbformat": 4,
 "nbformat_minor": 2
}

{
 "cells": [
  {
   "cell_type": "code",
   "execution_count": 1,
   "metadata": {},
   "outputs": [],
   "source": [
    "from loop import complete_task\n",
    "from llm import GPT\n",
    "from IPython.display import Markdown, display"
   ]
  },
  {
   "cell_type": "code",
   "execution_count": 2,
   "metadata": {},
   "outputs": [],
   "source": [
    "model = GPT()"
   ]
  },
  {
   "cell_type": "code",
   "execution_count": 4,
   "metadata": {},
   "outputs": [
    {
     "name": "stdout",
     "output_type": "stream",
     "text": [
      "https://www.google.com/search?q=list+of+presidents+of+the+usa 200\n",
      "https://en.wikipedia.org/wiki/List_of_presidents_of_the_United_States 200\n",
      "https://en.wikipedia.org/wiki/List_of_presidents_of_the_United_States 200\n",
      "https://www.google.com/search?q=last+5+presidents+of+the+USA+details 200\n",
      "https://www.whitehouse.gov/about-the-white-house/presidents/ 200\n",
      "https://www.whitehouse.gov/administration/president-biden/ 200\n",
      "https://www.whitehouse.gov/about-the-white-house/presidents/donald-j-trump/ 200\n",
      "https://www.whitehouse.gov/about-the-white-house/presidents/barack-obama/ 200\n",
      "https://en.wikipedia.org/wiki/Barack_Obama 200\n",
      "https://www.whitehouse.gov/about-the-white-house/presidents/george-w-bush/ 200\n"
     ]
    },
    {
     "data": {
      "text/markdown": [
       "The last 5 presidents of the United States, their party, term, and vice presidents are:\n",
       "\n",
       "1. [Joe Biden](https://www.whitehouse.gov/administration/president-biden/) \n",
       "   * Party: Information unavailable\n",
       "   * Term: Information unavailable\n",
       "   * Vice President: Information unavailable\n",
       "2. [Donald Trump](https://www.whitehouse.gov/about-the-white-house/presidents/donald-j-trump)\n",
       "   * Party: Republican \n",
       "   * Term: 2017-2021 \n",
       "   * Vice President: Mike Pence\n",
       "3. [Barack Obama](https://en.wikipedia.org/wiki/Barack_Obama)\n",
       "   * Party: Democratic \n",
       "   * Term: 2009-2017 \n",
       "   * Vice President: Joe Biden\n",
       "4. [George W. Bush](https://www.whitehouse.gov/about-the-white-house/presidents/george-w-bush/)\n",
       "   * Party: Information unavailable\n",
       "   * Term: Information unavailable\n",
       "   * Vice President: Information unavailable\n",
       "5. [William J. Clinton](https://www.whitehouse.gov/about-the-white-house/presidents/william-j-clinton/)\n",
       "   * Party: Information unavailable\n",
       "   * Term: Information unavailable\n",
       "   * Vice President: Information unavailable\n",
       "\n",
       "Summary of findings is incomplete as not all of the required information was available on the visited sources due to limitations of the AI's access to internet. Further search is needed to collect the remaining data. The data was gathered from [The White House](https://www.whitehouse.gov/about-the-white-house/presidents/) and [Wikipedia](https://en.wikipedia.org/wiki/Barack_Obama)."
      ],
      "text/plain": [
       "<IPython.core.display.Markdown object>"
      ]
     },
     "metadata": {},
     "output_type": "display_data"
    }
   ],
   "source": [
    "task = \"\"\"Identify the last 5 presidents of the United States of America.\n",
    "Create a table of the last 5 presidents with the following columns:\n",
    "* Name\n",
    "* Party\n",
    "* Term\n",
    "* Vice President\n",
    "\n",
    "Should you be unable to find all the information just leave the respective cell empty.\"\"\"\n",
    "answer = complete_task(task, model)\n",
    "display(Markdown(answer))"
   ]
  }
 ],
 "metadata": {
  "kernelspec": {
   "display_name": "base",
   "language": "python",
   "name": "python3"
  },
  "language_info": {
   "codemirror_mode": {
    "name": "ipython",
    "version": 3
   },
   "file_extension": ".py",
   "mimetype": "text/x-python",
   "name": "python",
   "nbconvert_exporter": "python",
   "pygments_lexer": "ipython3",
   "version": "3.10.9"
  },
  "orig_nbformat": 4
 },
 "nbformat": 4,
 "nbformat_minor": 2
}
